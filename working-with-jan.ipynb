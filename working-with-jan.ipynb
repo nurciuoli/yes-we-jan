{
 "cells": [
  {
   "cell_type": "code",
   "execution_count": 1,
   "metadata": {},
   "outputs": [
    {
     "name": "stdout",
     "output_type": "stream",
     "text": [
      " Why don't scientists trust atoms?\n",
      "\n",
      "Because they make up everything!\n"
     ]
    }
   ],
   "source": [
    "from myJan import Jan\n",
    "j = Jan()\n",
    "\n",
    "j.completion('Tell me a joke')"
   ]
  },
  {
   "cell_type": "code",
   "execution_count": 2,
   "metadata": {},
   "outputs": [
    {
     "name": "stdout",
     "output_type": "stream",
     "text": [
      " ```python\n",
      "def list_average(numbers):\n",
      "    \"\"\"\n",
      "    Calculates the average of a given list.\n",
      "\n",
      "    :param numbers: List of numbers to find the average of.\n",
      "    :return: The average value.\n",
      "    \"\"\"\n",
      "    total = sum(numbers)\n",
      "    return total / len(numbers)\n",
      "```\n",
      "\n",
      "Example usage:\n",
      "```python\n",
      ">>> list_average([1, 2, 3, 4])\n",
      "3.0\n",
      "```\n"
     ]
    }
   ],
   "source": [
    "from system_prompts import prompts\n",
    "from myJan import Jan\n",
    "j = Jan(prompts['Code']['model'])\n",
    "\n",
    "j.start_thread('write me a function to take the average of any list',\n",
    "prompts['Code']['role'])"
   ]
  },
  {
   "cell_type": "code",
   "execution_count": null,
   "metadata": {},
   "outputs": [],
   "source": [
    "j.get_my_models()"
   ]
  }
 ],
 "metadata": {
  "kernelspec": {
   "display_name": "Python 3",
   "language": "python",
   "name": "python3"
  },
  "language_info": {
   "codemirror_mode": {
    "name": "ipython",
    "version": 3
   },
   "file_extension": ".py",
   "mimetype": "text/x-python",
   "name": "python",
   "nbconvert_exporter": "python",
   "pygments_lexer": "ipython3",
   "version": "3.11.8"
  }
 },
 "nbformat": 4,
 "nbformat_minor": 2
}
