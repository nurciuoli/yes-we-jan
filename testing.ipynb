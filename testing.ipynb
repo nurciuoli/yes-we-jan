{
 "cells": [
  {
   "cell_type": "code",
   "execution_count": 1,
   "metadata": {},
   "outputs": [
    {
     "name": "stdout",
     "output_type": "stream",
     "text": [
      " Of course! Here's a classic one: Why don't scientists trust atoms?\n",
      "\n",
      "Because they make up everything! I hope you found that amusing. Do you have any other requests or questions?\n"
     ]
    }
   ],
   "source": [
    "from myJan import Jan\n",
    "j = Jan()\n",
    "\n",
    "j.completion('Tell me a joke')"
   ]
  },
  {
   "cell_type": "code",
   "execution_count": 2,
   "metadata": {},
   "outputs": [
    {
     "name": "stdout",
     "output_type": "stream",
     "text": [
      " Hello Jimmy! How can I assist you today? If you have any questions or need help with a specific task, feel free to ask. I'm here to make your day easier!\n"
     ]
    }
   ],
   "source": [
    "j.start_thread('hi my name is jimmy')"
   ]
  },
  {
   "cell_type": "code",
   "execution_count": 3,
   "metadata": {},
   "outputs": [
    {
     "name": "stdout",
     "output_type": "stream",
     "text": [
      " I believe you introduced yourself at the beginning of our conversation as Jimmy. Is there something specific you'd like to know or discuss related to that name or any other topic? I'm here to help!\n"
     ]
    }
   ],
   "source": [
    "j.continue_thread('what is my name?')"
   ]
  },
  {
   "cell_type": "code",
   "execution_count": null,
   "metadata": {},
   "outputs": [],
   "source": [
    "j.continue_thread('Can you give a quick recap of our entire convo thus far?')"
   ]
  },
  {
   "cell_type": "code",
   "execution_count": 4,
   "metadata": {},
   "outputs": [
    {
     "data": {
      "text/plain": [
       "[{'content': 'You are a helpful assistant.', 'role': 'system'},\n",
       " {'content': 'hi my name is jimmy', 'role': 'user'},\n",
       " {'content': \" Hello Jimmy! How can I assist you today? If you have any questions or need help with a specific task, feel free to ask. I'm here to make your day easier!\",\n",
       "  'role': 'assistant'},\n",
       " {'content': 'what is my name?', 'role': 'user'},\n",
       " {'content': \" I believe you introduced yourself at the beginning of our conversation as Jimmy. Is there something specific you'd like to know or discuss related to that name or any other topic? I'm here to help!\",\n",
       "  'role': 'assistant'}]"
      ]
     },
     "execution_count": 4,
     "metadata": {},
     "output_type": "execute_result"
    }
   ],
   "source": [
    "j.messages"
   ]
  },
  {
   "cell_type": "code",
   "execution_count": null,
   "metadata": {},
   "outputs": [],
   "source": []
  }
 ],
 "metadata": {
  "kernelspec": {
   "display_name": "Python 3",
   "language": "python",
   "name": "python3"
  },
  "language_info": {
   "codemirror_mode": {
    "name": "ipython",
    "version": 3
   },
   "file_extension": ".py",
   "mimetype": "text/x-python",
   "name": "python",
   "nbconvert_exporter": "python",
   "pygments_lexer": "ipython3",
   "version": "3.11.8"
  }
 },
 "nbformat": 4,
 "nbformat_minor": 2
}
