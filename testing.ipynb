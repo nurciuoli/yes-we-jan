{
 "cells": [
  {
   "cell_type": "code",
   "execution_count": 1,
   "metadata": {},
   "outputs": [
    {
     "name": "stdout",
     "output_type": "stream",
     "text": [
      " Of course! Here's a classic one: Why don't scientists trust atoms?\n",
      "\n",
      "Because they make up everything! I hope you found that amusing. If you have any other requests or questions, feel free to ask!\n"
     ]
    }
   ],
   "source": [
    "from myJan import Jan\n",
    "j = Jan()\n",
    "\n",
    "j.completion('Tell me a joke')"
   ]
  }
 ],
 "metadata": {
  "kernelspec": {
   "display_name": "Python 3",
   "language": "python",
   "name": "python3"
  },
  "language_info": {
   "codemirror_mode": {
    "name": "ipython",
    "version": 3
   },
   "file_extension": ".py",
   "mimetype": "text/x-python",
   "name": "python",
   "nbconvert_exporter": "python",
   "pygments_lexer": "ipython3",
   "version": "3.11.8"
  }
 },
 "nbformat": 4,
 "nbformat_minor": 2
}
