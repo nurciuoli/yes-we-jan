{
 "cells": [
  {
   "cell_type": "code",
   "execution_count": 1,
   "metadata": {},
   "outputs": [
    {
     "name": "stdout",
     "output_type": "stream",
     "text": [
      " Of course, I'd be happy to share a joke with you! Here's one that always makes me laugh:\n",
      "\n",
      "Why don't scientists trust atoms?\n",
      "\n",
      "Because they make up everything! 😊 I hope you found that amusing. Do you have any other requests or questions?\n"
     ]
    }
   ],
   "source": [
    "from myJan import Jan\n",
    "j = Jan()\n",
    "\n",
    "j.completion('Tell me a joke')"
   ]
  },
  {
   "cell_type": "code",
   "execution_count": 2,
   "metadata": {},
   "outputs": [
    {
     "name": "stdout",
     "output_type": "stream",
     "text": [
      " Hello Jimmy, it's nice to meet you! How can I assist you today? If you have any questions or need help with something, please don't hesitate to ask. I'm here to make your life easier! :)\n"
     ]
    }
   ],
   "source": [
    "j.start_thread('hi my name is jimmy')"
   ]
  },
  {
   "cell_type": "code",
   "execution_count": 3,
   "metadata": {},
   "outputs": [
    {
     "name": "stdout",
     "output_type": "stream",
     "text": [
      " Hello Jimmy, I just introduced myself as your assistant and mentioned that your name is Jimmy. Is there something specific you were looking for or any question you have in mind? I'm here to help! :)\n"
     ]
    }
   ],
   "source": [
    "j.continue_thread('what is my name?')"
   ]
  },
  {
   "cell_type": "code",
   "execution_count": null,
   "metadata": {},
   "outputs": [],
   "source": []
  }
 ],
 "metadata": {
  "kernelspec": {
   "display_name": "Python 3",
   "language": "python",
   "name": "python3"
  },
  "language_info": {
   "codemirror_mode": {
    "name": "ipython",
    "version": 3
   },
   "file_extension": ".py",
   "mimetype": "text/x-python",
   "name": "python",
   "nbconvert_exporter": "python",
   "pygments_lexer": "ipython3",
   "version": "3.11.8"
  }
 },
 "nbformat": 4,
 "nbformat_minor": 2
}
